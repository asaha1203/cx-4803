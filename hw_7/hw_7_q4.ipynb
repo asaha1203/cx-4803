{
 "cells": [
  {
   "cell_type": "code",
   "execution_count": 2,
   "id": "219b1403-267c-4dc0-bf4b-123239c246a2",
   "metadata": {},
   "outputs": [
    {
     "name": "stdout",
     "output_type": "stream",
     "text": [
      "Intel MKL WARNING: Support of Intel(R) Streaming SIMD Extensions 4.2 (Intel(R) SSE4.2) enabled only processors has been deprecated. Intel oneAPI Math Kernel Library 2025.0 will require Intel(R) Advanced Vector Extensions (Intel(R) AVX) instructions.\n",
      "Intel MKL WARNING: Support of Intel(R) Streaming SIMD Extensions 4.2 (Intel(R) SSE4.2) enabled only processors has been deprecated. Intel oneAPI Math Kernel Library 2025.0 will require Intel(R) Advanced Vector Extensions (Intel(R) AVX) instructions.\n"
     ]
    }
   ],
   "source": [
    "#libraries\n",
    "import numpy as np\n",
    "from matplotlib import pyplot as plt\n",
    "from scipy.optimize import minimize"
   ]
  },
  {
   "cell_type": "code",
   "execution_count": 139,
   "id": "628130ac-b458-4506-880e-eb18ba658aee",
   "metadata": {},
   "outputs": [],
   "source": [
    "data = np.loadtxt('hw7_q4.csv', delimiter=\",\", dtype=float)\n",
    "x = data[:,:2]\n",
    "y = data[:,2]\n",
    "\n",
    "n = len(data)"
   ]
  },
  {
   "cell_type": "code",
   "execution_count": 140,
   "id": "b724c632-87a5-46a9-b8cc-66c479006a90",
   "metadata": {},
   "outputs": [
    {
     "data": {
      "text/plain": [
       "(100, 2)"
      ]
     },
     "execution_count": 140,
     "metadata": {},
     "output_type": "execute_result"
    }
   ],
   "source": [
    "np.shape(x)"
   ]
  },
  {
   "cell_type": "code",
   "execution_count": 141,
   "id": "3b6c205f-9bef-4cff-a30b-2c70e46ae3fa",
   "metadata": {},
   "outputs": [],
   "source": [
    "#define objective functions, confusion matrix functions\n",
    "X = np.column_stack((np.ones(n), x))\n",
    "def crossentropy_loss(w):\n",
    "    loss = y.T @ np.log(1 + np.exp(-w @ X.T)) + (1 - y).T @ np.log(1 + np.exp(w @ X.T))\n",
    "    return loss\n",
    "def MSE_loss(w):\n",
    "    loss = np.linalg.norm(y - X @ w)**2\n",
    "    return loss\n",
    "def cmval(X, w, y, c):\n",
    "    tp = 0\n",
    "    fp = 0\n",
    "    tn = 0\n",
    "    fn = 0\n",
    "    for i in range(n):\n",
    "        if ((X @ w)[i] < c):\n",
    "            if (y[i] == 0):\n",
    "                tn+=1\n",
    "            else:\n",
    "                fn+=1\n",
    "        elif ((X @ w)[i] > c):\n",
    "            if (y[i] == 1):\n",
    "                tp+=1\n",
    "            else:\n",
    "                fp+=1\n",
    "    return tp, fp, tn, fn"
   ]
  },
  {
   "cell_type": "code",
   "execution_count": 160,
   "id": "e9eda970-aad9-4f8f-be39-dcd2c1719749",
   "metadata": {},
   "outputs": [
    {
     "name": "stdout",
     "output_type": "stream",
     "text": [
      "Optimization terminated successfully.\n",
      "         Current function value: 44.674623\n",
      "         Iterations: 8\n",
      "         Function evaluations: 44\n",
      "         Gradient evaluations: 11\n"
     ]
    },
    {
     "data": {
      "text/plain": [
       "(45, 9, 41, 5)"
      ]
     },
     "execution_count": 160,
     "metadata": {},
     "output_type": "execute_result"
    }
   ],
   "source": [
    "#minimize cross entropy loss \n",
    "res1 = minimize(crossentropy_loss, [0,0,0], method='BFGS', options={'disp': True})\n",
    "w1 = res1.x\n",
    "cmval(X,w1,y,0)"
   ]
  },
  {
   "cell_type": "code",
   "execution_count": 161,
   "id": "8d9395f6-f5fa-4e34-8da9-df4b5c857910",
   "metadata": {},
   "outputs": [
    {
     "name": "stdout",
     "output_type": "stream",
     "text": [
      "Optimization terminated successfully.\n",
      "         Current function value: 15.073670\n",
      "         Iterations: 3\n",
      "         Function evaluations: 28\n",
      "         Gradient evaluations: 7\n"
     ]
    },
    {
     "data": {
      "text/plain": [
       "(50, 45, 5, 0)"
      ]
     },
     "execution_count": 161,
     "metadata": {},
     "output_type": "execute_result"
    }
   ],
   "source": [
    "#minimize MSE loss\n",
    "res2 = minimize(MSE_loss, [0,0,0], method='BFGS', options={'disp': True})\n",
    "w2 = res2.x\n",
    "cmval(X,w2,y,0)"
   ]
  },
  {
   "cell_type": "code",
   "execution_count": 164,
   "id": "f3bf85aa-e1f3-49e7-813c-7612f65c806c",
   "metadata": {},
   "outputs": [
    {
     "data": {
      "text/plain": [
       "[array([[-1.        , -0.97979798, -0.95959596, ...,  0.95959596,\n",
       "          0.97979798,  1.        ],\n",
       "        [-1.        , -0.97979798, -0.95959596, ...,  0.95959596,\n",
       "          0.97979798,  1.        ],\n",
       "        [-1.        , -0.97979798, -0.95959596, ...,  0.95959596,\n",
       "          0.97979798,  1.        ],\n",
       "        ...,\n",
       "        [-1.        , -0.97979798, -0.95959596, ...,  0.95959596,\n",
       "          0.97979798,  1.        ],\n",
       "        [-1.        , -0.97979798, -0.95959596, ...,  0.95959596,\n",
       "          0.97979798,  1.        ],\n",
       "        [-1.        , -0.97979798, -0.95959596, ...,  0.95959596,\n",
       "          0.97979798,  1.        ]]),\n",
       " array([[-1.        , -1.        , -1.        , ..., -1.        ,\n",
       "         -1.        , -1.        ],\n",
       "        [-0.97979798, -0.97979798, -0.97979798, ..., -0.97979798,\n",
       "         -0.97979798, -0.97979798],\n",
       "        [-0.95959596, -0.95959596, -0.95959596, ..., -0.95959596,\n",
       "         -0.95959596, -0.95959596],\n",
       "        ...,\n",
       "        [ 0.95959596,  0.95959596,  0.95959596, ...,  0.95959596,\n",
       "          0.95959596,  0.95959596],\n",
       "        [ 0.97979798,  0.97979798,  0.97979798, ...,  0.97979798,\n",
       "          0.97979798,  0.97979798],\n",
       "        [ 1.        ,  1.        ,  1.        , ...,  1.        ,\n",
       "          1.        ,  1.        ]])]"
      ]
     },
     "execution_count": 164,
     "metadata": {},
     "output_type": "execute_result"
    }
   ],
   "source": [
    "xval = np.linspace(-1,1,100)\n",
    "x1,x2 = np.meshgrid(xval,xval)\n"
   ]
  },
  {
   "cell_type": "code",
   "execution_count": 165,
   "id": "2deac194-826f-4f5a-942e-d8e68abf372c",
   "metadata": {},
   "outputs": [
    {
     "data": {
      "text/plain": [
       "(2, 100, 100)"
      ]
     },
     "execution_count": 165,
     "metadata": {},
     "output_type": "execute_result"
    }
   ],
   "source": []
  }
 ],
 "metadata": {
  "kernelspec": {
   "display_name": "Python 3 (ipykernel)",
   "language": "python",
   "name": "python3"
  },
  "language_info": {
   "codemirror_mode": {
    "name": "ipython",
    "version": 3
   },
   "file_extension": ".py",
   "mimetype": "text/x-python",
   "name": "python",
   "nbconvert_exporter": "python",
   "pygments_lexer": "ipython3",
   "version": "3.9.18"
  }
 },
 "nbformat": 4,
 "nbformat_minor": 5
}
