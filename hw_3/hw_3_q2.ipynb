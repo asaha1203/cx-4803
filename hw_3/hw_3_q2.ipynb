{
 "cells": [
  {
   "cell_type": "code",
   "execution_count": 1,
   "id": "0613f146-be17-419e-b14f-ed0fb7d31861",
   "metadata": {
    "tags": []
   },
   "outputs": [
    {
     "name": "stdout",
     "output_type": "stream",
     "text": [
      "Intel MKL WARNING: Support of Intel(R) Streaming SIMD Extensions 4.2 (Intel(R) SSE4.2) enabled only processors has been deprecated. Intel oneAPI Math Kernel Library 2025.0 will require Intel(R) Advanced Vector Extensions (Intel(R) AVX) instructions.\n",
      "Intel MKL WARNING: Support of Intel(R) Streaming SIMD Extensions 4.2 (Intel(R) SSE4.2) enabled only processors has been deprecated. Intel oneAPI Math Kernel Library 2025.0 will require Intel(R) Advanced Vector Extensions (Intel(R) AVX) instructions.\n"
     ]
    }
   ],
   "source": [
    "import numpy as np\n",
    "import scipy as sp \n",
    "from matplotlib import pyplot as plt"
   ]
  },
  {
   "cell_type": "code",
   "execution_count": 2,
   "id": "21c31b81-b62a-4beb-b6e2-b16811310b04",
   "metadata": {
    "tags": []
   },
   "outputs": [],
   "source": [
    "# define relevant constants\n",
    "n = 1000\n",
    "sigma_2 = 5\n",
    "sigma = np.sqrt(sigma_2)\n",
    "m = 9\n",
    "k = 10"
   ]
  },
  {
   "cell_type": "code",
   "execution_count": 3,
   "id": "26a0b3d5-1834-4cbf-8f70-964f165dc06c",
   "metadata": {
    "tags": []
   },
   "outputs": [],
   "source": [
    "# generate sample data \n",
    "noise = np.random.normal(0,sigma,n)\n",
    "x = np.random.uniform(-1,1,size=n)\n",
    "y = np.sin(x) + noise"
   ]
  },
  {
   "cell_type": "code",
   "execution_count": 4,
   "id": "eb6b3ed4-190b-4ed9-a74a-daa29816e5da",
   "metadata": {},
   "outputs": [],
   "source": [
    "# create design matrix function, polyreg function, k-fold training function\n",
    "\n",
    "# recursive function for polynomial design matrix; yes, this is not memoized. should do this in future\n",
    "def designmatrix(x_input,p):\n",
    "    if (p == 1):\n",
    "        X = np.vstack([np.ones(np.size(x_input)), x_input]).T\n",
    "        return X\n",
    "    else:\n",
    "        X = np.vstack([designmatrix(x_input, p - 1).T, x_input**p]).T\n",
    "        return X\n",
    "\n",
    "# function to perform polynomial regression\n",
    "def polyreg(x_input, y_input, p):\n",
    "    X = designmatrix(x_input, p)\n",
    "    w = np.linalg.lstsq(X,y_input,rcond=None)[0]\n",
    "    return w, X\n",
    "\n",
    "def kfold(x_input, y_input, p):\n",
    "    \n",
    "    return x_train, y_train, x_test, y_test\n"
   ]
  },
  {
   "cell_type": "code",
   "execution_count": 8,
   "id": "fe4e0572-6ee3-4fc7-a083-1ea2c88cb0df",
   "metadata": {},
   "outputs": [
    {
     "ename": "TypeError",
     "evalue": "unhashable type: 'numpy.ndarray'",
     "output_type": "error",
     "traceback": [
      "\u001b[0;31m---------------------------------------------------------------------------\u001b[0m",
      "\u001b[0;31mTypeError\u001b[0m                                 Traceback (most recent call last)",
      "Cell \u001b[0;32mIn[8], line 2\u001b[0m\n\u001b[1;32m      1\u001b[0m \u001b[38;5;66;03m# call the functions!\u001b[39;00m\n\u001b[0;32m----> 2\u001b[0m \u001b[43mdesignmatrix\u001b[49m\u001b[43m(\u001b[49m\u001b[43mx\u001b[49m\u001b[43m)\u001b[49m\n",
      "Cell \u001b[0;32mIn[4], line 7\u001b[0m, in \u001b[0;36mMemoize.<locals>.helper\u001b[0;34m(x)\u001b[0m\n\u001b[1;32m      6\u001b[0m \u001b[38;5;28;01mdef\u001b[39;00m \u001b[38;5;21mhelper\u001b[39m(x):\n\u001b[0;32m----> 7\u001b[0m     \u001b[38;5;28;01mif\u001b[39;00m \u001b[43mx\u001b[49m\u001b[43m \u001b[49m\u001b[38;5;129;43;01mnot\u001b[39;49;00m\u001b[43m \u001b[49m\u001b[38;5;129;43;01min\u001b[39;49;00m\u001b[43m \u001b[49m\u001b[43mmemo\u001b[49m:            \n\u001b[1;32m      8\u001b[0m         memo[x] \u001b[38;5;241m=\u001b[39m f(x)\n\u001b[1;32m      9\u001b[0m     \u001b[38;5;28;01mreturn\u001b[39;00m memo[x]\n",
      "\u001b[0;31mTypeError\u001b[0m: unhashable type: 'numpy.ndarray'"
     ]
    }
   ],
   "source": [
    "# call the functions!\n",
    "\n",
    "for i in range(1, m+1):\n",
    "    for j in range(1, k+1):\n",
    "        x_train, y_train, x_test, y_test = kfold(x,y,j)\n",
    "        w, X = polyreg(x_train, y_train, i)\n",
    "        \n",
    "        \n",
    "        \n",
    "    "
   ]
  }
 ],
 "metadata": {
  "kernelspec": {
   "display_name": "Python 3 (ipykernel)",
   "language": "python",
   "name": "python3"
  },
  "language_info": {
   "codemirror_mode": {
    "name": "ipython",
    "version": 3
   },
   "file_extension": ".py",
   "mimetype": "text/x-python",
   "name": "python",
   "nbconvert_exporter": "python",
   "pygments_lexer": "ipython3",
   "version": "3.9.18"
  }
 },
 "nbformat": 4,
 "nbformat_minor": 5
}
