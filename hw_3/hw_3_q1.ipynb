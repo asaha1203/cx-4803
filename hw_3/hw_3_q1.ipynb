{
 "cells": [
  {
   "cell_type": "code",
   "execution_count": 2,
   "id": "06be694e-5841-49f4-918e-991b763aef2a",
   "metadata": {
    "tags": []
   },
   "outputs": [
    {
     "name": "stdout",
     "output_type": "stream",
     "text": [
      "Intel MKL WARNING: Support of Intel(R) Streaming SIMD Extensions 4.2 (Intel(R) SSE4.2) enabled only processors has been deprecated. Intel oneAPI Math Kernel Library 2025.0 will require Intel(R) Advanced Vector Extensions (Intel(R) AVX) instructions.\n",
      "Intel MKL WARNING: Support of Intel(R) Streaming SIMD Extensions 4.2 (Intel(R) SSE4.2) enabled only processors has been deprecated. Intel oneAPI Math Kernel Library 2025.0 will require Intel(R) Advanced Vector Extensions (Intel(R) AVX) instructions.\n"
     ]
    }
   ],
   "source": [
    "import numpy as np\n",
    "import scipy as sp \n",
    "from matplotlib import pyplot as plt"
   ]
  },
  {
   "cell_type": "code",
   "execution_count": 3,
   "id": "73d3b082-561b-48dd-b4e5-22f0ba24bbfa",
   "metadata": {
    "tags": []
   },
   "outputs": [],
   "source": [
    "#define data\n",
    "x = np.array([0,-1,1])\n",
    "y = np.array([1.1, -9.1, 11.0])"
   ]
  },
  {
   "cell_type": "code",
   "execution_count": 4,
   "id": "24dde8e2-7616-4110-a314-b79490bf54bf",
   "metadata": {
    "tags": []
   },
   "outputs": [],
   "source": [
    "# perform linear regression \n",
    "X = np.vstack([np.ones(3), x]).T\n",
    "w = np.linalg.lstsq(X, y, rcond=None)[0]"
   ]
  },
  {
   "cell_type": "code",
   "execution_count": 5,
   "id": "7864d679-8fce-449d-81a2-b40b59869214",
   "metadata": {
    "tags": []
   },
   "outputs": [],
   "source": [
    "# compute RSS\n",
    "m_RSS = (y - X @ w)**2\n",
    "RSS = sum(m_RSS)"
   ]
  },
  {
   "cell_type": "code",
   "execution_count": 15,
   "id": "11173f26-15d5-4fa8-9d2a-b56e405b4e45",
   "metadata": {
    "tags": []
   },
   "outputs": [
    {
     "data": {
      "image/png": "[encoded data removed]",
      "text/plain": [
       "<Figure size 640x480 with 1 Axes>"
      ]
     },
     "metadata": {},
     "output_type": "display_data"
    }
   ],
   "source": [
    "u=1.     #x-position of the center\n",
    "v=0.5    #y-position of the center\n",
    "a=2.     #radius on the x-axis\n",
    "b=1.5    #radius on the y-axis\n",
    "\n",
    "t = np.linspace(0, 2*np.pi, 100)\n",
    "plt.plot( w[1]+np.sqrt(2)*np.cos(t) , w[0]+np.sqrt(3)*np.sin(t) )\n",
    "plt.plot( np.cos(t) , np.sin(t))\n",
    "plt.grid(color='lightgray',linestyle='--')\n",
    "plt.gca().set_aspect('equal')\n",
    "plt.show()"
   ]
  },
  {
   "cell_type": "code",
   "execution_count": 6,
   "id": "546bc0fd-74eb-4c07-9a16-c97d188a7544",
   "metadata": {
    "tags": []
   },
   "outputs": [
    {
     "data": {
      "text/plain": [
       "array([ 1.  , 10.05])"
      ]
     },
     "execution_count": 6,
     "metadata": {},
     "output_type": "execute_result"
    }
   ],
   "source": [
    "w"
   ]
  },
  {
   "cell_type": "code",
   "execution_count": null,
   "id": "e191f4d2-9ae9-4430-8db2-65a007bb9a86",
   "metadata": {},
   "outputs": [],
   "source": []
  }
 ],
 "metadata": {
  "kernelspec": {
   "display_name": "Python 3 (ipykernel)",
   "language": "python",
   "name": "python3"
  },
  "language_info": {
   "codemirror_mode": {
    "name": "ipython",
    "version": 3
   },
   "file_extension": ".py",
   "mimetype": "text/x-python",
   "name": "python",
   "nbconvert_exporter": "python",
   "pygments_lexer": "ipython3",
   "version": "3.9.18"
  }
 },
 "nbformat": 4,
 "nbformat_minor": 5
}
