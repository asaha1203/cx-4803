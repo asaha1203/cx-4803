{
 "cells": [
  {
   "cell_type": "code",
   "execution_count": 1,
   "id": "4d6fd0bf-2182-4467-b966-eb07c9370510",
   "metadata": {},
   "outputs": [
    {
     "name": "stdout",
     "output_type": "stream",
     "text": [
      "Intel MKL WARNING: Support of Intel(R) Streaming SIMD Extensions 4.2 (Intel(R) SSE4.2) enabled only processors has been deprecated. Intel oneAPI Math Kernel Library 2025.0 will require Intel(R) Advanced Vector Extensions (Intel(R) AVX) instructions.\n",
      "Intel MKL WARNING: Support of Intel(R) Streaming SIMD Extensions 4.2 (Intel(R) SSE4.2) enabled only processors has been deprecated. Intel oneAPI Math Kernel Library 2025.0 will require Intel(R) Advanced Vector Extensions (Intel(R) AVX) instructions.\n"
     ]
    }
   ],
   "source": [
    "#import libraries\n",
    "import numpy as np\n",
    "from matplotlib import pyplot as plt"
   ]
  },
  {
   "cell_type": "code",
   "execution_count": 4,
   "id": "932ecb08-af3e-4a59-ab9e-f65386d96ffb",
   "metadata": {},
   "outputs": [],
   "source": [
    "#import data\n",
    "data = np.loadtxt(\"hw4_q2.csv\",delimiter=\",\", dtype=None)"
   ]
  },
  {
   "cell_type": "code",
   "execution_count": 12,
   "id": "17cc4f0d-a28b-4281-996b-22ab4414afe6",
   "metadata": {},
   "outputs": [
    {
     "data": {
      "text/plain": [
       "array([0.63958629, 0.28999066, 0.89550653, 0.68127305, 0.58173894,\n",
       "       0.13708458, 0.76258818, 0.5852834 , 0.75916315, 0.6706122 ,\n",
       "       0.24909259, 0.67211884, 0.73512172, 0.03289012, 0.3554003 ,\n",
       "       0.38597682, 0.17258407, 0.22235371, 0.11900545, 0.35339078,\n",
       "       0.38095218, 0.64370119, 0.28879521, 0.10890347, 0.02114776,\n",
       "       0.20733901, 0.44572802, 0.07580952, 0.85370094, 0.40062289,\n",
       "       0.70524093, 0.72695909, 0.22818483, 0.82847718, 0.6837788 ,\n",
       "       0.67570535, 0.59285172, 0.9667111 , 0.78272549, 0.67055684,\n",
       "       0.07033039, 0.84797726, 0.15498348, 0.3376161 , 0.08913705,\n",
       "       0.64549249, 0.11656291, 0.73690902, 0.75614579, 0.56499807,\n",
       "       0.68270719, 0.3025719 , 0.66403323, 0.27337427, 0.3723215 ,\n",
       "       0.17990568, 0.14858256, 0.11272918, 0.4751106 , 0.51705897,\n",
       "       0.71564472, 0.94316493, 0.38633436, 0.67484066])"
      ]
     },
     "execution_count": 12,
     "metadata": {},
     "output_type": "execute_result"
    }
   ],
   "source": [
    "data[:,0]"
   ]
  },
  {
   "cell_type": "code",
   "execution_count": 22,
   "id": "be894cdc-1394-4b3d-be90-6441c1d41c32",
   "metadata": {},
   "outputs": [],
   "source": [
    "#set constants\n",
    "m = 3\n",
    "n = 64\n",
    "lmbda = 1\n",
    "sigma_2 = 0.1\n",
    "\n",
    "#create useful matrices\n",
    "X = np.vstack([np.ones(n), data[:,0], data[:,1], data[:,2]]).T\n",
    "y = data[:,3]"
   ]
  },
  {
   "cell_type": "code",
   "execution_count": 23,
   "id": "64a03380-5d91-4afb-b574-8705a1d6949c",
   "metadata": {},
   "outputs": [
    {
     "name": "stdout",
     "output_type": "stream",
     "text": [
      "Intel MKL WARNING: Support of Intel(R) Streaming SIMD Extensions 4.2 (Intel(R) SSE4.2) enabled only processors has been deprecated. Intel oneAPI Math Kernel Library 2025.0 will require Intel(R) Advanced Vector Extensions (Intel(R) AVX) instructions.\n"
     ]
    }
   ],
   "source": [
    "#fit ordinary LR and ridge regressaion\n",
    "w = np.linalg.lstsq(X, y, rcond=None)[0]\n",
    "w_ridge = np.linalg.inv(X.T @ X + lmbda * np.identity(m+1)) @ X.T @ y"
   ]
  },
  {
   "cell_type": "code",
   "execution_count": null,
   "id": "ea0a4879-92d2-48f4-9de1-f4d2e21ac69c",
   "metadata": {},
   "outputs": [],
   "source": [
    "cov_w_bayes = np.linalg.inv(np.linalg.inv(X.T\n",
    "w_bayes = "
   ]
  }
 ],
 "metadata": {
  "kernelspec": {
   "display_name": "Python 3 (ipykernel)",
   "language": "python",
   "name": "python3"
  },
  "language_info": {
   "codemirror_mode": {
    "name": "ipython",
    "version": 3
   },
   "file_extension": ".py",
   "mimetype": "text/x-python",
   "name": "python",
   "nbconvert_exporter": "python",
   "pygments_lexer": "ipython3",
   "version": "3.9.18"
  }
 },
 "nbformat": 4,
 "nbformat_minor": 5
}
