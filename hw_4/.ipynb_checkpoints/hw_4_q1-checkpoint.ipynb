{
 "cells": [
  {
   "cell_type": "code",
   "execution_count": 1,
   "id": "baa59ff5-3c11-4b38-9e15-56a34ef353d2",
   "metadata": {},
   "outputs": [
    {
     "name": "stdout",
     "output_type": "stream",
     "text": [
      "Intel MKL WARNING: Support of Intel(R) Streaming SIMD Extensions 4.2 (Intel(R) SSE4.2) enabled only processors has been deprecated. Intel oneAPI Math Kernel Library 2025.0 will require Intel(R) Advanced Vector Extensions (Intel(R) AVX) instructions.\n",
      "Intel MKL WARNING: Support of Intel(R) Streaming SIMD Extensions 4.2 (Intel(R) SSE4.2) enabled only processors has been deprecated. Intel oneAPI Math Kernel Library 2025.0 will require Intel(R) Advanced Vector Extensions (Intel(R) AVX) instructions.\n"
     ]
    }
   ],
   "source": [
    "#import packages\n",
    "import numpy as np\n",
    "from matplotlib import pyplot as plt"
   ]
  },
  {
   "cell_type": "code",
   "execution_count": 32,
   "id": "b912d380-eb82-4fcc-97e9-62a3bf9916e7",
   "metadata": {},
   "outputs": [],
   "source": [
    "#define constants\n",
    "n = 5\n",
    "d = 3\n",
    "\n",
    "#define data mean & prior mean\n",
    "real_mean = -1 * np.ones(d)\n",
    "prior_mean = np.zeros(d)\n",
    "\n",
    "#define data & prior covariance\n",
    "real_cov = np.array([[1,0,-0.2],[0,0.8,0.3],[-0.2,0.3,1.1]])\n",
    "prior_cov = np.identity(d)\n",
    "\n",
    "#sample observations\n",
    "obs = np.random.multivariate_normal(real_mean, real_cov, n).T\n"
   ]
  },
  {
   "cell_type": "code",
   "execution_count": 38,
   "id": "847d9173-080e-4a5d-8019-6b7c6e3164d0",
   "metadata": {},
   "outputs": [],
   "source": [
    "post_mean = prior_cov @ np.linalg.inv(prior_cov + (real_cov / n)) @ np.average(obs,1) + real_cov @ np.linalg.inv(prior_cov + (real_cov / n)) @ prior_mean / n \n",
    "post_cov = prior_cov @ np.linalg.inv(prior_cov + (real_cov / n)) @ real_cov / n"
   ]
  },
  {
   "cell_type": "code",
   "execution_count": 48,
   "id": "c3103298-5afa-4458-b9fa-faed14fd4d05",
   "metadata": {},
   "outputs": [
    {
     "data": {
      "text/plain": [
       "array([-1.08421246, -0.94763852, -1.17992079])"
      ]
     },
     "execution_count": 48,
     "metadata": {},
     "output_type": "execute_result"
    }
   ],
   "source": [
    "post_mean"
   ]
  },
  {
   "cell_type": "code",
   "execution_count": 45,
   "id": "86bac69e-358a-4069-9bd8-5fcc2f8af429",
   "metadata": {},
   "outputs": [],
   "source": [
    "def p_estimator(observation, p0_mean, p0_cov, pn_cov):\n",
    "    mean = p0_cov @ np.linalg.inv(p0_cov + (pn_cov / n)) @ observation + real_cov @ np.linalg.inv(p0_cov + (pn_cov / n)) @ p0_mean / n \n",
    "    cov = p0_cov @ np.linalg.inv(p0_cov + (pn_cov / n)) @ pn_cov / n\n",
    "    return mean, cov"
   ]
  },
  {
   "cell_type": "code",
   "execution_count": 46,
   "id": "329afab3-e004-4907-89ea-c75cdf633984",
   "metadata": {},
   "outputs": [],
   "source": [
    "p0_mean = prior_mean\n",
    "p0_cov = prior_cov\n",
    "pn_cov = real_cov\n",
    "for i in range(5):\n",
    "    observation = obs[:,i]\n",
    "    p0_mean, p0_cov = p_estimator(observation, p0_mean, p0_cov, pn_cov)"
   ]
  },
  {
   "cell_type": "code",
   "execution_count": 47,
   "id": "ab22405f-d3fc-4906-9b7c-6c0157cedbd0",
   "metadata": {},
   "outputs": [
    {
     "data": {
      "text/plain": [
       "array([-1.2163115 , -1.11763292, -1.38822996])"
      ]
     },
     "execution_count": 47,
     "metadata": {},
     "output_type": "execute_result"
    }
   ],
   "source": [
    "p0_mean"
   ]
  }
 ],
 "metadata": {
  "kernelspec": {
   "display_name": "Python 3 (ipykernel)",
   "language": "python",
   "name": "python3"
  },
  "language_info": {
   "codemirror_mode": {
    "name": "ipython",
    "version": 3
   },
   "file_extension": ".py",
   "mimetype": "text/x-python",
   "name": "python",
   "nbconvert_exporter": "python",
   "pygments_lexer": "ipython3",
   "version": "3.9.18"
  }
 },
 "nbformat": 4,
 "nbformat_minor": 5
}
