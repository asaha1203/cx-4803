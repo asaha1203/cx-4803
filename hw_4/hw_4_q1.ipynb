{
 "cells": [
  {
   "cell_type": "code",
   "execution_count": 159,
   "id": "baa59ff5-3c11-4b38-9e15-56a34ef353d2",
   "metadata": {},
   "outputs": [],
   "source": [
    "#import packages\n",
    "import numpy as np\n",
    "from matplotlib import pyplot as plt"
   ]
  },
  {
   "cell_type": "code",
   "execution_count": 160,
   "id": "b912d380-eb82-4fcc-97e9-62a3bf9916e7",
   "metadata": {},
   "outputs": [],
   "source": [
    "#define constants\n",
    "n = 100\n",
    "d = 3\n",
    "\n",
    "#define data mean & prior mean\n",
    "real_mean = -1 * np.ones(d)\n",
    "prior_mean = np.zeros(d)\n",
    "\n",
    "#define data & prior covariance\n",
    "real_cov = np.array([[1,0,-0.2],[0,0.8,0.3],[-0.2,0.3,1.1]])\n",
    "prior_cov = np.identity(d)\n",
    "\n",
    "#sample observations\n",
    "obs = np.random.multivariate_normal(real_mean, real_cov, n).T\n"
   ]
  },
  {
   "cell_type": "code",
   "execution_count": 161,
   "id": "847d9173-080e-4a5d-8019-6b7c6e3164d0",
   "metadata": {},
   "outputs": [],
   "source": [
    "post_mean = prior_cov @ np.linalg.inv(prior_cov + (real_cov / n)) @ np.average(obs,1) + real_cov @ np.linalg.inv(prior_cov + (real_cov / n)) @ prior_mean / n \n",
    "post_cov = prior_cov @ np.linalg.inv(prior_cov + (real_cov / n)) @ real_cov / n"
   ]
  },
  {
   "cell_type": "code",
   "execution_count": 169,
   "id": "86bac69e-358a-4069-9bd8-5fcc2f8af429",
   "metadata": {},
   "outputs": [],
   "source": [
    "def p_estimator(observation, p0_mean, p0_cov, r_cov):\n",
    "    mean = p0_cov @ np.linalg.inv(p0_cov + (pn_cov / n)) @ observation + real_cov @ np.linalg.inv(p0_cov + (pn_cov / n)) @ p0_mean / n \n",
    "    cov = p0_cov @ np.linalg.inv(p0_cov + (r_cov / n)) @ r_cov\n",
    "    return mean, cov"
   ]
  },
  {
   "cell_type": "code",
   "execution_count": 170,
   "id": "329afab3-e004-4907-89ea-c75cdf633984",
   "metadata": {},
   "outputs": [],
   "source": [
    "p0_mean = prior_mean\n",
    "p0_cov = prior_cov\n",
    "for i in range(5):\n",
    "    observation = obs[:,i]\n",
    "    p0_mean, p0_cov = p_estimator(observation, p0_mean, p0_cov, real_cov)"
   ]
  },
  {
   "cell_type": "code",
   "execution_count": 171,
   "id": "c3103298-5afa-4458-b9fa-faed14fd4d05",
   "metadata": {},
   "outputs": [
    {
     "data": {
      "text/plain": [
       "array([-0.95281816, -1.05084753, -0.96692201])"
      ]
     },
     "execution_count": 171,
     "metadata": {},
     "output_type": "execute_result"
    }
   ],
   "source": [
    "post_mean"
   ]
  },
  {
   "cell_type": "code",
   "execution_count": 172,
   "id": "5cad7443-1ff6-468b-b407-dd0f873743a8",
   "metadata": {},
   "outputs": [
    {
     "data": {
      "text/plain": [
       "array([[ 9.89711153e-03,  5.82939824e-06, -1.95867781e-03],\n",
       "       [ 5.82939824e-06,  7.92774649e-03,  2.94384611e-03],\n",
       "       [-1.95867781e-03,  2.94384611e-03,  1.08677063e-02]])"
      ]
     },
     "execution_count": 172,
     "metadata": {},
     "output_type": "execute_result"
    }
   ],
   "source": [
    "post_cov"
   ]
  },
  {
   "cell_type": "code",
   "execution_count": 173,
   "id": "ab22405f-d3fc-4906-9b7c-6c0157cedbd0",
   "metadata": {},
   "outputs": [
    {
     "data": {
      "text/plain": [
       "array([-2.13969496, -0.03269496, -1.00234951])"
      ]
     },
     "execution_count": 173,
     "metadata": {},
     "output_type": "execute_result"
    }
   ],
   "source": [
    "p0_mean"
   ]
  },
  {
   "cell_type": "code",
   "execution_count": 174,
   "id": "6038a359-3392-4a97-ad3c-36fca3ed6244",
   "metadata": {},
   "outputs": [
    {
     "data": {
      "text/plain": [
       "array([[ 9.90000000e-01,  5.88060434e-12, -1.98000000e-01],\n",
       "       [ 5.88062099e-12,  7.92000000e-01,  2.97000000e-01],\n",
       "       [-1.98000000e-01,  2.97000000e-01,  1.08900000e+00]])"
      ]
     },
     "execution_count": 174,
     "metadata": {},
     "output_type": "execute_result"
    }
   ],
   "source": [
    "p0_cov"
   ]
  },
  {
   "cell_type": "code",
   "execution_count": null,
   "id": "6f917be1-ef07-48c1-9d85-d97d155214de",
   "metadata": {},
   "outputs": [],
   "source": []
  },
  {
   "cell_type": "code",
   "execution_count": 168,
   "id": "e984ca5a-136b-4f72-a97a-a21dce7b64db",
   "metadata": {},
   "outputs": [
    {
     "data": {
      "text/plain": [
       "array([[ 1. ,  0. , -0.2],\n",
       "       [ 0. ,  0.8,  0.3],\n",
       "       [-0.2,  0.3,  1.1]])"
      ]
     },
     "execution_count": 168,
     "metadata": {},
     "output_type": "execute_result"
    }
   ],
   "source": [
    "real_cov"
   ]
  },
  {
   "cell_type": "code",
   "execution_count": null,
   "id": "986be40c-605a-4d0e-b28b-8ef4ecaa56e3",
   "metadata": {},
   "outputs": [],
   "source": []
  }
 ],
 "metadata": {
  "kernelspec": {
   "display_name": "Python 3 (ipykernel)",
   "language": "python",
   "name": "python3"
  },
  "language_info": {
   "codemirror_mode": {
    "name": "ipython",
    "version": 3
   },
   "file_extension": ".py",
   "mimetype": "text/x-python",
   "name": "python",
   "nbconvert_exporter": "python",
   "pygments_lexer": "ipython3",
   "version": "3.9.18"
  }
 },
 "nbformat": 4,
 "nbformat_minor": 5
}
