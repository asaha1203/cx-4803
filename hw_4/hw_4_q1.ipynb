{
 "cells": [
  {
   "cell_type": "code",
   "execution_count": 1,
   "id": "baa59ff5-3c11-4b38-9e15-56a34ef353d2",
   "metadata": {},
   "outputs": [
    {
     "name": "stdout",
     "output_type": "stream",
     "text": [
      "Intel MKL WARNING: Support of Intel(R) Streaming SIMD Extensions 4.2 (Intel(R) SSE4.2) enabled only processors has been deprecated. Intel oneAPI Math Kernel Library 2025.0 will require Intel(R) Advanced Vector Extensions (Intel(R) AVX) instructions.\n",
      "Intel MKL WARNING: Support of Intel(R) Streaming SIMD Extensions 4.2 (Intel(R) SSE4.2) enabled only processors has been deprecated. Intel oneAPI Math Kernel Library 2025.0 will require Intel(R) Advanced Vector Extensions (Intel(R) AVX) instructions.\n"
     ]
    }
   ],
   "source": [
    "#import libraries\n",
    "import numpy as np\n",
    "from matplotlib import pyplot as plt"
   ]
  },
  {
   "cell_type": "code",
   "execution_count": 2,
   "id": "b912d380-eb82-4fcc-97e9-62a3bf9916e7",
   "metadata": {},
   "outputs": [],
   "source": [
    "#define constants\n",
    "n = 5\n",
    "d = 3\n",
    "\n",
    "#define data mean & prior mean\n",
    "real_mean = -1 * np.ones(d)\n",
    "prior_mean = np.zeros(d)\n",
    "\n",
    "#define data & prior covariance\n",
    "real_cov = np.array([[1,0,-0.2],[0,0.8,0.3],[-0.2,0.3,1.1]])\n",
    "prior_cov = np.identity(d)\n",
    "\n",
    "#sample observations\n",
    "obs = np.random.multivariate_normal(real_mean, real_cov, n).T\n"
   ]
  },
  {
   "cell_type": "code",
   "execution_count": 4,
   "id": "847d9173-080e-4a5d-8019-6b7c6e3164d0",
   "metadata": {},
   "outputs": [],
   "source": [
    "#compute batch bayesian estimates of the posterior mean and covariance\n",
    "post_mean = prior_cov @ np.linalg.inv(prior_cov + (real_cov / n)) @ np.average(obs,1) + real_cov @ np.linalg.inv(prior_cov + (real_cov / n)) @ prior_mean / n \n",
    "post_cov = prior_cov @ np.linalg.inv(prior_cov + (real_cov / n)) @ real_cov / n"
   ]
  },
  {
   "cell_type": "code",
   "execution_count": 5,
   "id": "86bac69e-358a-4069-9bd8-5fcc2f8af429",
   "metadata": {},
   "outputs": [],
   "source": [
    "def p_estimator(observation, p0_mean, p0_cov, r_cov):\n",
    "    n = 1\n",
    "    mean = p0_cov @ np.linalg.inv(p0_cov + r_cov / n) @ observation + r_cov @ np.linalg.inv(p0_cov + r_cov / n) @ p0_mean / n \n",
    "    cov = p0_cov @ np.linalg.inv(p0_cov + r_cov / n) @ r_cov / n\n",
    "    return mean, cov"
   ]
  },
  {
   "cell_type": "code",
   "execution_count": 6,
   "id": "329afab3-e004-4907-89ea-c75cdf633984",
   "metadata": {},
   "outputs": [],
   "source": [
    "p_mean = prior_mean\n",
    "p_cov = prior_cov\n",
    "#obs2 = np.vstack([prior_mean, obs.T]).T\n",
    "for i in range(n):\n",
    "    observation = obs[:,i]\n",
    "    p_mean, p_cov = p_estimator(observation, p_mean, p_cov, real_cov)"
   ]
  },
  {
   "cell_type": "code",
   "execution_count": 7,
   "id": "0d34ed66-16ab-4c8c-a9f8-ca2847860285",
   "metadata": {},
   "outputs": [
    {
     "data": {
      "text/plain": [
       "array([-1.19313129, -1.61608733, -1.44370324])"
      ]
     },
     "execution_count": 7,
     "metadata": {},
     "output_type": "execute_result"
    }
   ],
   "source": [
    "post_mean"
   ]
  },
  {
   "cell_type": "code",
   "execution_count": 11,
   "id": "f30384e4-03e4-4911-97c8-c27508452f1d",
   "metadata": {},
   "outputs": [
    {
     "data": {
      "text/plain": [
       "array([-1.19313129, -1.61608733, -1.44370324])"
      ]
     },
     "execution_count": 11,
     "metadata": {},
     "output_type": "execute_result"
    }
   ],
   "source": [
    "p_mean"
   ]
  },
  {
   "cell_type": "code",
   "execution_count": 9,
   "id": "3f146c2a-0058-4afa-9d2c-f0e8207248b5",
   "metadata": {},
   "outputs": [
    {
     "data": {
      "text/plain": [
       "array([[ 0.1657526 ,  0.00141839, -0.02742213],\n",
       "       [ 0.00141839,  0.13573009,  0.04255158],\n",
       "       [-0.02742213,  0.04255158,  0.17733608]])"
      ]
     },
     "execution_count": 9,
     "metadata": {},
     "output_type": "execute_result"
    }
   ],
   "source": [
    "post_cov"
   ]
  },
  {
   "cell_type": "code",
   "execution_count": 12,
   "id": "5030ea26-1d83-43fc-a849-e2058d7b50f8",
   "metadata": {},
   "outputs": [
    {
     "data": {
      "text/plain": [
       "array([[ 0.1657526 ,  0.00141839, -0.02742213],\n",
       "       [ 0.00141839,  0.13573009,  0.04255158],\n",
       "       [-0.02742213,  0.04255158,  0.17733608]])"
      ]
     },
     "execution_count": 12,
     "metadata": {},
     "output_type": "execute_result"
    }
   ],
   "source": [
    "p_cov"
   ]
  }
 ],
 "metadata": {
  "kernelspec": {
   "display_name": "Python 3 (ipykernel)",
   "language": "python",
   "name": "python3"
  },
  "language_info": {
   "codemirror_mode": {
    "name": "ipython",
    "version": 3
   },
   "file_extension": ".py",
   "mimetype": "text/x-python",
   "name": "python",
   "nbconvert_exporter": "python",
   "pygments_lexer": "ipython3",
   "version": "3.10.13"
  }
 },
 "nbformat": 4,
 "nbformat_minor": 5
}
